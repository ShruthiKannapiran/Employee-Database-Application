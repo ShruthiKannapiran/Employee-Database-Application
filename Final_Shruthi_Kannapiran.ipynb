{
 "cells": [
  {
   "cell_type": "code",
   "execution_count": 1,
   "metadata": {},
   "outputs": [],
   "source": [
    "#define your own Vehicle class here\n",
    "#the order of the four required positional arguments should be: make,model,year,mileage\n",
    "#please use the conventional way to define function names and refer to the following test to adjust function names \n",
    "#no need to handle exceptions here\n",
    "\n",
    "class Vehicle:\n",
    "    def __init__(self, vmk, vmd, vy, vml):\n",
    "        self.__make = vmk\n",
    "        self.__model = vmd\n",
    "        self.__year = vy\n",
    "        self.__mileage = vml\n",
    "        \n",
    "    def get_make(self):\n",
    "        return self.__make\n",
    "        \n",
    "    def get_model(self):\n",
    "        return self.__model\n",
    "\n",
    "    def get_year(self):\n",
    "        return self.__year\n",
    "        \n",
    "    def get_mileage(self):\n",
    "        return self.__mileage\n",
    "        \n",
    "    def set_make(self, vmk):\n",
    "        self.__make = vmk\n",
    "        \n",
    "    def set_model(self, vmd):\n",
    "        self.__model = vmd\n",
    "        \n",
    "    def set_year(self, vy):\n",
    "        self.__year = vy\n",
    "        \n",
    "    def set_mileage(self, vml):\n",
    "        self.__mileage = vml\n",
    "    \n",
    "    def __str__(self):\n",
    "        return f\"Make: {self.get_make()}; Model: {self.get_model()}; Year of Manufacture: {self.get_year()}; Mileage: {self.get_mileage()}\"\n"
   ]
  },
  {
   "cell_type": "code",
   "execution_count": 2,
   "metadata": {},
   "outputs": [
    {
     "name": "stdout",
     "output_type": "stream",
     "text": [
      "Make: Honda; Model: Civic; Year of Manufacture: 2014; Mileage: 50000\n",
      "The mileage of this vehicle is: 50000\n",
      "The year of manufacture of this vehicle is: 2012\n"
     ]
    }
   ],
   "source": [
    "#do a quick test on the Vehicle class before moving forward (5 points)\n",
    "#don't change this code\n",
    "vehicle1=Vehicle(\"Honda\",\"Civic\",2014,50000)\n",
    "print(vehicle1)\n",
    "print(\"The mileage of this vehicle is:\", vehicle1.get_mileage())\n",
    "vehicle1.set_year(2012)\n",
    "print(\"The year of manufacture of this vehicle is:\", vehicle1.get_year())"
   ]
  },
  {
   "cell_type": "code",
   "execution_count": 3,
   "metadata": {},
   "outputs": [],
   "source": [
    "#define your own Employee class here\n",
    "#the order of the three required positional arguments should be: name,address,vehicle object\n",
    "#please use the conventional way to define function names and refer to the following test to adjust function names\n",
    "#use emp for short of employee in naming attributes and functions\n",
    "#no need to handle exceptions here\n",
    "\n",
    "class Employee:\n",
    "    \n",
    "    def __init__(self, nm, addr, veh):\n",
    "        self.__emp_name = nm\n",
    "        self.__emp_addr = addr\n",
    "        self.__vehicle = veh\n",
    "        \n",
    "    def get_emp_name(self):\n",
    "        return self.__emp_name\n",
    "        \n",
    "    def get_emp_addr(self):\n",
    "        return self.__emp_addr\n",
    "        \n",
    "    def get_vehicle(self):\n",
    "        return self.__vehicle\n",
    "            \n",
    "    def set_emp_name(self, nm):\n",
    "        self.__emp_name = nm\n",
    "        \n",
    "    def set_emp_addr(self, addr):\n",
    "        self.__emp_addr = addr\n",
    "        \n",
    "    def set_vehicle(self, veh):\n",
    "        self.__vehicle = veh\n",
    "        \n",
    "    def compute_compensation(self):\n",
    "        pass\n",
    "    \n",
    "    def __str__(self):\n",
    "     return (f\"Employee Name: {self.get_emp_name()}; Employee Address: {self.get_emp_addr()}\\n\"\n",
    "            f\"Make: {self.get_vehicle().get_make()}; Model: {self.get_vehicle().get_model()}; \"\n",
    "            f\"Year of Manufacture: {self.get_vehicle().get_year()}; Mileage: {self.get_vehicle().get_mileage()}\")\n"
   ]
  },
  {
   "cell_type": "code",
   "execution_count": 4,
   "metadata": {},
   "outputs": [
    {
     "name": "stdout",
     "output_type": "stream",
     "text": [
      "Employee Name: Amy; Employee Address: 100 W Campbell Road, Richardson, Texas, 75080\n",
      "Make: Honda; Model: Civic; Year of Manufacture: 2012; Mileage: 50000\n",
      "Amy lives at 100 W Campbell Road, Richardson, Texas, 75080.\n",
      "Amy owns a Honda Civic vehicle.\n",
      "Amy lives at 800 E Campbell Road, Richardson, Texas, 75080.\n"
     ]
    }
   ],
   "source": [
    "#do a quick test on the Employee class before moving forward (5 points)\n",
    "#don't change this code\n",
    "emp1=Employee(\"Amy\", \"100 W Campbell Road, Richardson, Texas, 75080\",vehicle1)\n",
    "print(emp1)\n",
    "print(\"{0} lives at {1}.\".format(emp1.get_emp_name(),emp1.get_emp_addr()))\n",
    "print(\"{0} owns a {1} {2} vehicle.\".format(emp1.get_emp_name(),emp1.get_vehicle().get_make(),emp1.get_vehicle().get_model()))\n",
    "emp1.set_emp_addr(\"800 E Campbell Road, Richardson, Texas, 75080\")\n",
    "print(\"{0} lives at {1}.\".format(emp1.get_emp_name(),emp1.get_emp_addr()))"
   ]
  },
  {
   "cell_type": "code",
   "execution_count": 5,
   "metadata": {},
   "outputs": [],
   "source": [
    "#define your own Full Time Employee class here\n",
    "#Full Time Employee class inherits from Employee class\n",
    "#the order of the four required positional arguments should be: name,address,vehicle object,salary\n",
    "#please use the conventional way to define function names and refer to the following test to adjust function names\n",
    "#see detailed requirements on compute_compensation() function and compute_reimbursement() function in the pdf file\n",
    "#no need to handle exceptions here\n",
    "\n",
    "class FullTimeEmployee(Employee):\n",
    "    \n",
    "    def __init__(self, nm, addr, veh, sal):\n",
    "        Employee.__init__(self, nm, addr, veh)\n",
    "        self.__salary = sal\n",
    "        \n",
    "    def get_salary(self):\n",
    "        return self.__salary\n",
    "        \n",
    "    def set_salary(self, sal):\n",
    "        self.__salary = sal\n",
    "        \n",
    "    def compute_compensation(self):\n",
    "        if self.__salary <= 45000:\n",
    "            annual_compensation = self.__salary * (1 - 0.18)\n",
    "        elif self.__salary <= 82000:\n",
    "            annual_compensation = (self.__salary - 45000) * (1 - 0.28) + 36900\n",
    "        else:\n",
    "            annual_compensation = (self.__salary - 82000) * (1 - 0.33) + 63540\n",
    "        return (annual_compensation/52)\n",
    "    \n",
    "    def compute_reimbursement(self, annual_expense):\n",
    "        if annual_expense <= 10000:\n",
    "            reimb = annual_expense\n",
    "        else:\n",
    "            reimb = 10000 + 0.5 * (annual_expense - 10000)\n",
    "        return round(reimb / 52, 2)\n",
    "    \n",
    "    def __str__(self):\n",
    "        return (f\"Details of this Full Time Employee are:\\n\"\n",
    "                f\"{Employee.__str__(self)}\\n\"\n",
    "                f\"Salary: {self.get_salary():.2f}\")\n"
   ]
  },
  {
   "cell_type": "code",
   "execution_count": 6,
   "metadata": {},
   "outputs": [
    {
     "name": "stdout",
     "output_type": "stream",
     "text": [
      "Details of this Full Time Employee are:\n",
      "Employee Name: Amy; Employee Address: 100 W Campbell Road, Richardson, Texas, 75080\n",
      "Make: Honda; Model: Civic; Year of Manufacture: 2012; Mileage: 50000\n",
      "Salary: 40000.00\n",
      "Amy has an annual salary of $40000.\n",
      "Amy has a weekly compensation of $630.77.\n",
      "Amy has a weekly reimbursement of $211.54.\n",
      "Amy has an annual salary of $50000.\n"
     ]
    }
   ],
   "source": [
    "#do a quick test on the Full Time Employee class before moving forward (5 points)\n",
    "#don't change this code\n",
    "emp2=FullTimeEmployee(\"Amy\", \"100 W Campbell Road, Richardson, Texas, 75080\", vehicle1, 40000)\n",
    "print(emp2)\n",
    "print(\"{0} has an annual salary of ${1}.\".format(emp2.get_emp_name(),emp2.get_salary()))\n",
    "print(\"{0} has a weekly compensation of ${1:0.2f}.\".format(emp2.get_emp_name(),emp2.compute_compensation()))\n",
    "print(\"{0} has a weekly reimbursement of ${1:0.2f}.\".format(emp2.get_emp_name(),emp2.compute_reimbursement(12000)))\n",
    "emp2.set_salary(50000)\n",
    "print(\"{0} has an annual salary of ${1}.\".format(emp2.get_emp_name(),emp2.get_salary()))\n"
   ]
  },
  {
   "cell_type": "code",
   "execution_count": 7,
   "metadata": {},
   "outputs": [],
   "source": [
    "#define your own Hourly Employee class here\n",
    "#Hourly Employee class inherits from Employee class\n",
    "#the order of the five required positional arguments should be: name,address,vehicle object,hours worked,hourly rate\n",
    "#please use the conventional way to define function names and refer to the following test to adjust function names\n",
    "#see detailed requirements on compute_compensation() function and compute_reimbursement() function in the pdf file\n",
    "#no need to handle exceptions here\n",
    "\n",
    "class HourlyEmployee(Employee):\n",
    "\n",
    "    def __init__(self, nm, addr, veh, hw, hr):\n",
    "        super().__init__(nm, addr, veh)\n",
    "        self.__hours_wrkd = hw\n",
    "        self.__hourly_rate = hr\n",
    "\n",
    "    def get_hours_worked(self):\n",
    "        return self.__hours_wrkd\n",
    "        \n",
    "    def get_hourly_rate(self):\n",
    "        return self.__hourly_rate           \n",
    "        \n",
    "    def set_hours_worked(self, hw):\n",
    "        self.__hours_wrkd = hw\n",
    "        \n",
    "    def set_hourly_rate(self, hr):\n",
    "        self.__hourly_rate = hr\n",
    "                            \n",
    "    def compute_compensation(self):\n",
    "        if self.__hours_wrkd > 40:\n",
    "            return self.__hourly_rate * 40 + self.__hourly_rate * 1.8 * (self.__hours_wrkd - 40)\n",
    "        else:\n",
    "            return self.__hourly_rate * self.__hours_wrkd\n",
    " \n",
    "    def compute_reimbursement(self, weekly_expense):\n",
    "        return weekly_expense if weekly_expense <= 100 else 100\n",
    "    \n",
    "    def __str__(self):\n",
    "     return (f\"Details of this Hourly Employee are:\\n\"\n",
    "            f\"{super().__str__()}\\n\"\n",
    "            f\"Hours Worked: {self.get_hours_worked()}; Hourly Rate: {self.get_hourly_rate():.2f}\")"
   ]
  },
  {
   "cell_type": "code",
   "execution_count": 8,
   "metadata": {
    "scrolled": true
   },
   "outputs": [
    {
     "name": "stdout",
     "output_type": "stream",
     "text": [
      "Details of this Hourly Employee are:\n",
      "Employee Name: Grace; Employee Address: 400 W Campbell Road, Richardson, Texas, 75080\n",
      "Make: Honda; Model: Civic; Year of Manufacture: 2012; Mileage: 50000\n",
      "Hours Worked: 50; Hourly Rate: 20.00\n",
      "Grace works 50 hours per week at an hourly rate of $20.\n",
      "Grace has a weekly compensation of $1160.00.\n",
      "Grace has a weekly reimbursement of $100.00.\n",
      "Grace works 50 hours per week at an hourly rate of $22.\n"
     ]
    }
   ],
   "source": [
    "#do a quick test on the Hourly Employee class before moving forward (5 points)\n",
    "#don't change this code\n",
    "emp3=HourlyEmployee(\"Grace\", \"400 W Campbell Road, Richardson, Texas, 75080\", vehicle1,50,20)\n",
    "print(emp3)\n",
    "print(\"{0} works {1} hours per week at an hourly rate of ${2}.\".format(emp3.get_emp_name(),emp3.get_hours_worked(),emp3.get_hourly_rate()))\n",
    "print(\"{0} has a weekly compensation of ${1:0.2f}.\".format(emp3.get_emp_name(),emp3.compute_compensation()))\n",
    "print(\"{0} has a weekly reimbursement of ${1:0.2f}.\".format(emp3.get_emp_name(),emp3.compute_reimbursement(120)))\n",
    "emp3.set_hourly_rate(22)\n",
    "print(\"{0} works {1} hours per week at an hourly rate of ${2}.\".format(emp3.get_emp_name(),emp3.get_hours_worked(),emp3.get_hourly_rate()))\n"
   ]
  },
  {
   "cell_type": "code",
   "execution_count": 9,
   "metadata": {},
   "outputs": [],
   "source": [
    "#define your own Consultant class here\n",
    "#Consultant class inherits from Employee class\n",
    "#the order of the five required positional arguments should be: name,address,vehicle object,hours worked,project type\n",
    "#please use the conventional way to define function names and refer to the following test to adjust function names\n",
    "#see detailed requirements on compute_compensation() function and compute_reimbursement() function in the pdf file\n",
    "#no need to handle exceptions here\n",
    "\n",
    "#define consultant\n",
    "class Consultant(Employee):\n",
    "\n",
    "    def __init__(self, nm, addr, veh, hw, pt):\n",
    "        super().__init__(nm, addr, veh)\n",
    "        self.__hours_wrkd = hw\n",
    "        self.__project_type = pt\n",
    "    \n",
    "    def get_hours_worked(self):\n",
    "        return self.__hours_wrkd        \n",
    "\n",
    "    def get_project_type(self):\n",
    "        return self.__project_type\n",
    "        \n",
    "    def set_hours_worked(self, hw):\n",
    "        self.__hours_wrkd = hw\n",
    "                        \n",
    "    def set_project_type(self, pt):\n",
    "        self.__project_type = pt\n",
    "        \n",
    "    def compute_compensation(self):\n",
    "        if self.__project_type == 1:\n",
    "            hrly_rate = 55\n",
    "        elif self.__project_type == 2:\n",
    "            hrly_rate = 70\n",
    "        else:\n",
    "            hrly_rate = 85\n",
    "        return self.__hours_wrkd * hrly_rate\n",
    "        \n",
    "    def compute_reimbursement(self, weekly_expense):\n",
    "     project_reimb_rate = {1: 1.0, 2: 0.9, 3: 0.8}\n",
    "     rate = project_reimb_rate.get(self.get_project_type(), 0)\n",
    "     return round(weekly_expense * rate, 2)\n",
    "   \n",
    "    def __str__(self):\n",
    "     return (f\"Details of this Consultant are:\\n\"\n",
    "            f\"{Employee.__str__(self)}\\n\"\n",
    "            f\"Hours Worked: {self.get_hours_worked()}; Project Type: {self.get_project_type()}\")\n",
    "\n",
    "   "
   ]
  },
  {
   "cell_type": "code",
   "execution_count": 10,
   "metadata": {},
   "outputs": [
    {
     "name": "stdout",
     "output_type": "stream",
     "text": [
      "Details of this Consultant are:\n",
      "Employee Name: Michael; Employee Address: 700 W Campbell Road, Richardson, Texas, 75080\n",
      "Make: Honda; Model: Civic; Year of Manufacture: 2012; Mileage: 50000\n",
      "Hours Worked: 40; Project Type: 2\n",
      "Michael works 40 hours per week for type 2 project.\n",
      "Michael has a weekly compensation of $2800.00.\n",
      "Michael has a weekly reimbursement of $270.00.\n",
      "Michael works 35 hours per week for type 2 project.\n"
     ]
    }
   ],
   "source": [
    "#do a quick test on the Consultant class before moving forward (5 points)\n",
    "#don't change this code\n",
    "emp4=Consultant(\"Michael\", \"700 W Campbell Road, Richardson, Texas, 75080\",vehicle1,40,2)\n",
    "print(emp4)\n",
    "print(\"{0} works {1} hours per week for type {2} project.\".format(emp4.get_emp_name(),emp4.get_hours_worked(),emp4.get_project_type()))\n",
    "print(\"{0} has a weekly compensation of ${1:0.2f}.\".format(emp4.get_emp_name(),emp4.compute_compensation()))\n",
    "print(\"{0} has a weekly reimbursement of ${1:0.2f}.\".format(emp4.get_emp_name(),emp4.compute_reimbursement(300)))\n",
    "emp4.set_hours_worked(35)\n",
    "print(\"{0} works {1} hours per week for type {2} project.\".format(emp4.get_emp_name(),emp4.get_hours_worked(),emp4.get_project_type()))\n"
   ]
  },
  {
   "cell_type": "code",
   "execution_count": 11,
   "metadata": {},
   "outputs": [],
   "source": [
    "#define your own Management class here\n",
    "#Management class inherits from both Full Time Employee class and Consultant class\n",
    "#the order of the six required positional arguments should be: name, address,vehicle object, salary, hours worked, project type\n",
    "#please use the conventional way to define function names and refer to the following test to adjust function names\n",
    "#see detailed requirements on compute_compensation() function and compute_reimbursement() function in the pdf file\n",
    "#no need to handle exceptions here\n",
    "\n",
    "class Management(FullTimeEmployee, Consultant):\n",
    "\n",
    "    def __init__(self, nm, addr, veh, sal, hw, pt):\n",
    "        FullTimeEmployee.__init__(self, nm, addr, veh, sal)\n",
    "        Consultant.__init__(self, nm, addr, veh, hw, pt)\n",
    "\n",
    "    def compute_compensation(self):\n",
    "        # FullTime salary weekly + Consultant pay weekly\n",
    "        return FullTimeEmployee.compute_compensation(self) + Consultant.compute_compensation(self)\n",
    "\n",
    "    def compute_reimbursement(self, annual_expense, weekly_expense):\n",
    "        # FullTime reimbursement + Consultant reimbursement\n",
    "        fulltime_reimb = FullTimeEmployee.compute_reimbursement(self, annual_expense)\n",
    "        consultant_reimb = Consultant.compute_reimbursement(self, weekly_expense)\n",
    "        return fulltime_reimb + consultant_reimb\n",
    "\n",
    "    def __str__(self):\n",
    "        return (f\"Details of this Management are:\\n\"\n",
    "                f\"{Employee.__str__(self)}\\n\"\n",
    "                f\"Salary: {self.get_salary():.2f}; \"\n",
    "                f\"Hours Worked: {self.get_hours_worked()}; \"\n",
    "                f\"Project Type: {self.get_project_type()}\")\n",
    "\n",
    "    "
   ]
  },
  {
   "cell_type": "code",
   "execution_count": 12,
   "metadata": {},
   "outputs": [
    {
     "name": "stdout",
     "output_type": "stream",
     "text": [
      "Details of this Management are:\n",
      "Employee Name: Jane; Employee Address: 1000 W Campbell Road, Richardson, Texas, 75080\n",
      "Make: Honda; Model: Civic; Year of Manufacture: 2012; Mileage: 50000\n",
      "Salary: 120000.00; Hours Worked: 10; Project Type: 3\n",
      "\n",
      "\n",
      "Jane has an annual salary of $120000.\n",
      "Jane works 10 hours per week for type 3 project.\n",
      "Jane has a weekly compensation of $2561.54.\n",
      "Jane has a weekly reimbursement of $393.85.\n"
     ]
    }
   ],
   "source": [
    "#do a quick test on the Management class before moving forward (5 points)\n",
    "#don't change this code\n",
    "emp5=Management(\"Jane\", \"1000 W Campbell Road, Richardson, Texas, 75080\",vehicle1,120000,10,3)\n",
    "print(emp5)\n",
    "print(\"\\n\")\n",
    "print(\"{0} has an annual salary of ${1}.\".format(emp5.get_emp_name(),emp5.get_salary()))\n",
    "print(\"{0} works {1} hours per week for type {2} project.\".format(emp5.get_emp_name(),emp5.get_hours_worked(),emp5.get_project_type()))\n",
    "print(\"{0} has a weekly compensation of ${1:0.2f}.\".format(emp5.get_emp_name(),emp5.compute_compensation()))\n",
    "print(\"{0} has a weekly reimbursement of ${1:0.2f}.\".format(emp5.get_emp_name(),emp5.compute_reimbursement(8000,300)))\n"
   ]
  },
  {
   "cell_type": "code",
   "execution_count": 13,
   "metadata": {},
   "outputs": [],
   "source": [
    "#complete this get_emp_input() function to prepare for the main menu application\n",
    "#this function is used to ask for basic employee information and then return them: name and address\n",
    "#this function doesn't take arguement(s)\n",
    "#no need to handle exceptions here\n",
    "def get_emp_input():\n",
    "    emp_name = input(\"Enter employee's name: \")\n",
    "    emp_addr = input(\"Enter employee's address: \")\n",
    "    return emp_name, emp_addr"
   ]
  },
  {
   "cell_type": "code",
   "execution_count": 15,
   "metadata": {},
   "outputs": [
    {
     "name": "stdout",
     "output_type": "stream",
     "text": [
      "Enter employee's name: Bob\n",
      "Enter employee's address: 350 E Campbell Road, Richardson, Texas, 75080\n",
      "Bob lives at 350 E Campbell Road, Richardson, Texas, 75080.\n"
     ]
    }
   ],
   "source": [
    "#do a quick test on the get_emp_input() function before moving forward\n",
    "#don't change this code and please use the sample input\n",
    "#sample input: Bob; 350 E Campbell Road, Richardson, Texas, 75080\n",
    "name, address=get_emp_input()\n",
    "print(\"{0} lives at {1}.\".format(name,address))"
   ]
  },
  {
   "cell_type": "code",
   "execution_count": 16,
   "metadata": {},
   "outputs": [],
   "source": [
    "#complete this get_vehicle_input() function to prepare for the main menu application\n",
    "#this function is used to ask for vehicle information and then return them: make,model,year,mileage\n",
    "#this function doesn't take arguement(s)\n",
    "#no need to handle exceptions of make input and model input\n",
    "#handle exceptions to make sure year is a 4-digit positive number between 1900 and 2024\n",
    "#handle exceptions to make sure mileage is a positive number\n",
    "def get_vehicle_input():\n",
    "    veh_make = input('Enter the vehicle make: ')\n",
    "    veh_model = input('Enter the vehicle model: ')\n",
    "\n",
    "    # Validate vehicle year\n",
    "    while True:\n",
    "        try:\n",
    "            veh_year = int(input('Enter the year of manufacture (yyyy): '))\n",
    "            if 1900 <= veh_year <= 2024:\n",
    "                break\n",
    "            else:\n",
    "                print(\"Please enter an integer value for year in the format of yyyy between 1900 and 2023.\")\n",
    "        except ValueError:\n",
    "            print(\"Invalid input. Please enter a 4-digit year.\")\n",
    "\n",
    "    # Validate vehicle mileage\n",
    "    while True:\n",
    "        try:\n",
    "            veh_mileage = float(input('Enter the mileage (positive number): '))\n",
    "            if veh_mileage >= 0:\n",
    "                break\n",
    "            else:\n",
    "                print(\"Mileage must be a positive number.\")\n",
    "        except ValueError:\n",
    "            print(\"Invalid input. Please enter a valid number.\")\n",
    "\n",
    "    return (veh_make, veh_model, veh_year, veh_mileage)\n"
   ]
  },
  {
   "cell_type": "code",
   "execution_count": 17,
   "metadata": {},
   "outputs": [
    {
     "name": "stdout",
     "output_type": "stream",
     "text": [
      "Enter the vehicle make: Ford\n",
      "Enter the vehicle model: Ranger\n",
      "Enter the year of manufacture (yyyy): 2025\n",
      "Please enter an integer value for year in the format of yyyy between 1900 and 2023.\n",
      "Enter the year of manufacture (yyyy): 2015\n",
      "Enter the mileage (positive number): 80000\n",
      "The vehicle entered is a Ford Ranger made in 2015 with 80000.0 mileage curently.\n"
     ]
    }
   ],
   "source": [
    "#do a quick test on the get_vehicle_input() function before moving forward (5 points)\n",
    "#don't change this code and please use the sample input\n",
    "#sample input:Ford; Ranger; 2025 (when asked to enter again enter 2015); 80000\n",
    "vehiclemake, vehiclemodel, vehicleyear, vehiclemileage = get_vehicle_input()  \n",
    "print(\"The vehicle entered is a {0} {1} made in {2} with {3} mileage curently.\".format(vehiclemake, vehiclemodel, vehicleyear, vehiclemileage))"
   ]
  },
  {
   "cell_type": "code",
   "execution_count": 18,
   "metadata": {},
   "outputs": [],
   "source": [
    "#complete this get_full_time_input() function to prepare for the main menu application\n",
    "#this function is used to ask for specific information of full time employees and then return it: annual salary\n",
    "#this function doesn't take arguement(s)\n",
    "#no need to handle exceptions\n",
    "def get_full_time_input():\n",
    "    annual_salary = float(input(\"Enter the annual salary: \"))\n",
    "    return annual_salary"
   ]
  },
  {
   "cell_type": "code",
   "execution_count": 19,
   "metadata": {},
   "outputs": [
    {
     "name": "stdout",
     "output_type": "stream",
     "text": [
      "Enter the annual salary: 80000\n",
      "The annual salary entered is 80000.00\n"
     ]
    }
   ],
   "source": [
    "#do a quick test on the get_full_time_input() function before moving forward\n",
    "#don't change this code and please use the sample input\n",
    "#sample input:80000\n",
    "salary=get_full_time_input()\n",
    "print(\"The annual salary entered is {0:0.2f}\".format(salary))"
   ]
  },
  {
   "cell_type": "code",
   "execution_count": 20,
   "metadata": {},
   "outputs": [],
   "source": [
    "#complete this get_hourly_input() function to prepare for the main menu application\n",
    "#this function is used to ask for specific information of hourly employees and then return them: hours worked, hourly rate\n",
    "#this function doesn't take arguement(s)\n",
    "#no need to handle exceptions\n",
    "def get_hourly_input():\n",
    "    hours_worked = float(input(\"Enter the hours worked: \"))\n",
    "    hourly_rate = float(input(\"Enter the hourly rate: \"))\n",
    "    return hours_worked, hourly_rate"
   ]
  },
  {
   "cell_type": "code",
   "execution_count": 21,
   "metadata": {},
   "outputs": [
    {
     "name": "stdout",
     "output_type": "stream",
     "text": [
      "Enter the hours worked: 30\n",
      "Enter the hourly rate: 20\n",
      "This hourly employee works 30.0 hours per week at an hourly rate of $20.00\n"
     ]
    }
   ],
   "source": [
    "#do a quick test on the get_hourly_input() function before moving forward\n",
    "#don't change this code and please use the sample input\n",
    "#sample input: 30; 20\n",
    "hours_worked, hourly_rate = get_hourly_input()\n",
    "print(\"This hourly employee works {0} hours per week at an hourly rate of ${1:0.2f}\".format(hours_worked,hourly_rate))"
   ]
  },
  {
   "cell_type": "code",
   "execution_count": 22,
   "metadata": {},
   "outputs": [],
   "source": [
    "#complete this get_consultant_input() function to prepare for the main menu application\n",
    "#this function is used to ask for specific information of consultants and then return them: hours worked, project type\n",
    "#this function doesn't take arguement(s)\n",
    "#no need to handle exceptions\n",
    "def get_consultant_input():\n",
    "    hours_worked = float(input(\"Enter the hours worked: \"))\n",
    "    project_type = int(input(\"Project Type? (Enter a number between 1 and 3): \"))\n",
    "    return hours_worked, project_type\n"
   ]
  },
  {
   "cell_type": "code",
   "execution_count": 23,
   "metadata": {},
   "outputs": [
    {
     "name": "stdout",
     "output_type": "stream",
     "text": [
      "Enter the hours worked: 40\n",
      "Project Type? (Enter a number between 1 and 3): 2\n",
      "This consultant works 40.0 hours per week for type 2 project.\n"
     ]
    }
   ],
   "source": [
    "#do a quick test on the get_consultant_input() function before moving forward\n",
    "#don't change this code and please use the sample input\n",
    "#sample input: 40; 2\n",
    "\n",
    "hours_worked, project_type = get_consultant_input()\n",
    "print(\"This consultant works {0} hours per week for type {1} project.\".format(hours_worked,project_type))"
   ]
  },
  {
   "cell_type": "code",
   "execution_count": 24,
   "metadata": {},
   "outputs": [],
   "source": [
    "#complete this get_management_input() function to prepare for the main menu application\n",
    "#this function is used to ask for specific information of managements and then return them: annual salary, hours worked, project type\n",
    "#this function doesn't take arguement(s)\n",
    "#no need to handle exceptions\n",
    "def get_management_input():\n",
    "    annual_salary = float(input(\"Enter the annual salary: \"))\n",
    "    hours_worked = float(input(\"Enter the hours worked: \"))\n",
    "    project_type = int(input(\"Project Type? (Enter a number between 1 and 3): \"))\n",
    "    return annual_salary, hours_worked, project_type"
   ]
  },
  {
   "cell_type": "code",
   "execution_count": 25,
   "metadata": {},
   "outputs": [
    {
     "name": "stdout",
     "output_type": "stream",
     "text": [
      "Enter the annual salary: 100000\n",
      "Enter the hours worked: 8\n",
      "Project Type? (Enter a number between 1 and 3): 3\n",
      "This management has an annual salary of $100000.00. This management also works 8.0 hours per week additionally for type 3 project.\n"
     ]
    }
   ],
   "source": [
    "#do a quick test on the get_management_input() function before moving forward\n",
    "#don't change this code and please use the sample input\n",
    "#sample input: 100000; 8; 3\n",
    "salary, hours_worked, project_type = get_management_input()\n",
    "print(\"This management has an annual salary of ${0:0.2f}. This management also works {1} hours per week additionally for type {2} project.\".format(salary, hours_worked,project_type))"
   ]
  },
  {
   "cell_type": "code",
   "execution_count": 26,
   "metadata": {},
   "outputs": [],
   "source": [
    "#complete this read_file_data() function to prepare for the main menu application\n",
    "#this function is used to read information from an existing databse/binary file, which is empdata.dat in the final exam\n",
    "#this function doesn't take argument(s)\n",
    "#this function returns a list containing all employee objects stored in the database; each employ object is an element in the list; the list will also be used and updated later\n",
    "#need to handle exceptions if file doesn't exist\n",
    "import pickle\n",
    "def read_file_data():\n",
    "    emp_list = []\n",
    "    try:\n",
    "        with open('empdata.dat', 'rb') as file:\n",
    "            while True:\n",
    "                try:\n",
    "                    emp = pickle.load(file)\n",
    "                    emp_list.append(emp)\n",
    "                except EOFError:\n",
    "                    break\n",
    "    except FileNotFoundError:\n",
    "        print(\"Database file 'empdata.dat' not found.\")\n",
    "    return emp_list\n"
   ]
  },
  {
   "cell_type": "code",
   "execution_count": 27,
   "metadata": {
    "scrolled": true
   },
   "outputs": [
    {
     "name": "stdout",
     "output_type": "stream",
     "text": [
      "There are 9 employees stored in the database.\n",
      "\n",
      "Below is the information of the first employee in the database: Details of this Full Time Employee are:\n",
      "Employee Name: Amy; Employee Address: 100 W Campbell Road, Richardson, Texas, 75080\n",
      "Make: Honda; Model: Civic; Year of Manufacture: 2014; Mileage: 50000\n",
      "Salary: 40000.00\n",
      "\n",
      "Amy is the first employee.\n"
     ]
    }
   ],
   "source": [
    "#do a quick test on the read_file_data() function before moving forward (5 points)\n",
    "#don't change this code\n",
    "emp_list=read_file_data()\n",
    "print(\"There are {} employees stored in the database.\".format(len(emp_list)))\n",
    "print(\"\\nBelow is the information of the first employee in the database: {}\".format(emp_list[0]))\n",
    "print(\"\\n{} is the first employee.\".format(emp_list[0].get_emp_name()))"
   ]
  },
  {
   "cell_type": "code",
   "execution_count": 28,
   "metadata": {},
   "outputs": [],
   "source": [
    "#complete option 1 related code here\n",
    "#the idea is to walk through users to input required information\n",
    "#the first and foremost step is to ask for emloyee type\n",
    "#this function doesn't take arguement(s)\n",
    "#this function prints the entered object and also returns the entered object\n",
    "#some parts are provided so you don't need to change them (but you still can if you want to)\n",
    "\n",
    "def run_option1():\n",
    "    #ask for employee type\n",
    "    #exceptions need to be handled here to accept valid input \n",
    "    while True:\n",
    "        try:\n",
    "            sel = int(input(\"Type of Employee?(1-Full Time;2-Hourly;3-Consultant;4-Management) : \"))\n",
    "            if sel in [1, 2, 3, 4]:\n",
    "                break\n",
    "            else:\n",
    "                print(\"Please select an option from 1, 2, 3, and 4.\")\n",
    "        except ValueError:\n",
    "            print(\"Please select an option from 1, 2, 3, and 4.\")\n",
    "      \n",
    "    #call the previous get_emp_input() to ask for employee information and store the values      \n",
    "    name, address = get_emp_input()\n",
    "    \n",
    "    #call the previous get_vehicle_input() to ask for vehicle information and store the values\n",
    "    vehiclemake, vehiclemodel, vehicleyear, vehiclemileage = get_vehicle_input()    \n",
    "    \n",
    "    #create an object of Vehicle class using the prervious information\n",
    "    a_vehicle = Vehicle(vehiclemake, vehiclemodel, vehicleyear, vehiclemileage)\n",
    "    \n",
    "    #depending on previous input, call the prervious functions to ask for corresponding information\n",
    "    #then use all the required information to create an object of a certain class \n",
    "    #type 1:annual salary\n",
    "    #type 2:hours worked,hourly rate\n",
    "    #type 3:hours worked, project type\n",
    "    #type 4:annual salary, hours worked, project type\n",
    "    if sel == 1:\n",
    "        sal = get_full_time_input()\n",
    "        an_emp = FullTimeEmployee(name, address, a_vehicle, sal)\n",
    "    elif sel == 2:\n",
    "        hw, hr = get_hourly_input()\n",
    "        an_emp = HourlyEmployee(name, address, a_vehicle, hw, hr)\n",
    "    elif sel == 3:\n",
    "        hw, pt = get_consultant_input()\n",
    "        an_emp = Consultant(name, address, a_vehicle, hw, pt)\n",
    "    elif sel == 4:\n",
    "        sal, hw, pt = get_management_input()\n",
    "        an_emp = Management(name, address, a_vehicle, sal, hw, pt)\n",
    "    \n",
    "    print(\"\\n\" + str(an_emp))\n",
    "    print(\"\\n============================================================\")        \n",
    "    print(\"New employee entered successfully! Now going to the main menu.\")\n",
    "    print(\"==============================================================\")     \n",
    "    return an_emp\n"
   ]
  },
  {
   "cell_type": "code",
   "execution_count": 29,
   "metadata": {
    "scrolled": true
   },
   "outputs": [
    {
     "name": "stdout",
     "output_type": "stream",
     "text": [
      "Type of Employee?(1-Full Time;2-Hourly;3-Consultant;4-Management) : 5\n",
      "Please select an option from 1, 2, 3, and 4.\n",
      "Type of Employee?(1-Full Time;2-Hourly;3-Consultant;4-Management) : zzz\n",
      "Please select an option from 1, 2, 3, and 4.\n",
      "Type of Employee?(1-Full Time;2-Hourly;3-Consultant;4-Management) : 4\n",
      "Enter employee's name: David\n",
      "Enter employee's address: 103 E Campbell Road, Richardson, Texas, 75080\n",
      "Enter the vehicle make: BMW\n",
      "Enter the vehicle model: X3\n",
      "Enter the year of manufacture (yyyy): 2018\n",
      "Enter the mileage (positive number): 5000\n",
      "Enter the annual salary: 110000\n",
      "Enter the hours worked: 5\n",
      "Project Type? (Enter a number between 1 and 3): 2\n",
      "\n",
      "Details of this Management are:\n",
      "Employee Name: David; Employee Address: 103 E Campbell Road, Richardson, Texas, 75080\n",
      "Make: BMW; Model: X3; Year of Manufacture: 2018; Mileage: 5000.0\n",
      "Salary: 110000.00; Hours Worked: 5.0; Project Type: 2\n",
      "\n",
      "============================================================\n",
      "New employee entered successfully! Now going to the main menu.\n",
      "==============================================================\n"
     ]
    },
    {
     "data": {
      "text/plain": [
       "<__main__.Management at 0x10814bd90>"
      ]
     },
     "execution_count": 29,
     "metadata": {},
     "output_type": "execute_result"
    }
   ],
   "source": [
    "#do a quick test on the run_option1() function before moving forward (5 points)\n",
    "#don't change this code and please use the example input\n",
    "#example input: 5 (then zzz then 4); David; 103 E Campbell Road, Richardson, Texas, 75080; BMW; X3;2018;5000;110000;5;2\n",
    "run_option1()"
   ]
  },
  {
   "cell_type": "code",
   "execution_count": 30,
   "metadata": {},
   "outputs": [],
   "source": [
    "#complete option 2 related code here\n",
    "#the function is to print centain number of employees as required by users\n",
    "#first choice:print all employees; second choice: print first 5 employees when there are at least 5 employees (print all if fewer than 5)\n",
    "#this function takes one argument, which is the emp_lst list (i.e. the list created previously which is used to store employee objects)\n",
    "#this function doesn't return anything\n",
    "#needs to handle exceptions when taking user seletions\n",
    "def run_option2(my_lst):\n",
    "    while True:\n",
    "        try:\n",
    "            choice = int(input(\"Do you want to see information of all employees (input 1) or the first 5 employees (input 2)?\"))\n",
    "            if choice in [1, 2]:\n",
    "                break\n",
    "            else:\n",
    "                print(\"Please select 1 or 2\")\n",
    "        except ValueError:\n",
    "            print(\"Please select 1 or 2\")\n",
    "\n",
    "    print(\"=\" * 74)\n",
    "    if choice == 1:\n",
    "        print(\"Below is the information of all employees stored in the database.\")\n",
    "    else:\n",
    "        print(\"Below is the information of the first 5 employees stored in the database.\")\n",
    "    print(\"=\" * 74)\n",
    "\n",
    "    if choice == 1:\n",
    "        for emp in my_lst:\n",
    "            print(\"\\n\" + str(emp))\n",
    "    else:\n",
    "        for emp in my_lst[:5]:\n",
    "            print(\"\\n\" + str(emp))\n"
   ]
  },
  {
   "cell_type": "code",
   "execution_count": 31,
   "metadata": {},
   "outputs": [
    {
     "name": "stdout",
     "output_type": "stream",
     "text": [
      "Do you want to see information of all employees (input 1) or the first 5 employees (input 2)?3\n",
      "Please select 1 or 2\n",
      "Do you want to see information of all employees (input 1) or the first 5 employees (input 2)?zzz\n",
      "Please select 1 or 2\n",
      "Do you want to see information of all employees (input 1) or the first 5 employees (input 2)?2\n",
      "==========================================================================\n",
      "Below is the information of the first 5 employees stored in the database.\n",
      "==========================================================================\n",
      "\n",
      "Details of this Full Time Employee are:\n",
      "Employee Name: Amy; Employee Address: 100 W Campbell Road, Richardson, Texas, 75080\n",
      "Make: Honda; Model: Civic; Year of Manufacture: 2014; Mileage: 50000\n",
      "Salary: 40000.00\n",
      "\n",
      "Details of this Full Time Employee are:\n",
      "Employee Name: Bob; Employee Address: 200 W Campbell Road, Richardson, Texas, 75080\n",
      "Make: Toyota; Model: Camry; Year of Manufacture: 2010; Mileage: 60000\n",
      "Salary: 80000.00\n",
      "\n",
      "Details of this Full Time Employee are:\n",
      "Employee Name: Evan; Employee Address: 300 W Campbell Road, Richardson, Texas, 75080\n",
      "Make: BMW; Model: X3; Year of Manufacture: 2016; Mileage: 30000\n",
      "Salary: 120000.00\n",
      "\n",
      "Details of this Hourly Employee are:\n",
      "Employee Name: Grace; Employee Address: 400 W Campbell Road, Richardson, Texas, 75080\n",
      "Make: Kia; Model: Rio; Year of Manufacture: 2005; Mileage: 150000\n",
      "Hours Worked: 50; Hourly Rate: 20.00\n",
      "\n",
      "Details of this Hourly Employee are:\n",
      "Employee Name: James; Employee Address: 500 W Campbell Road, Richardson, Texas, 75080\n",
      "Make: Mazda; Model: Mazda3; Year of Manufacture: 2010; Mileage: 80000\n",
      "Hours Worked: 30; Hourly Rate: 25.00\n"
     ]
    }
   ],
   "source": [
    "#do a quick test on run_option2() function before moving forward (5 points)\n",
    "#don't change this code and please use the sample input\n",
    "#sample input: 3 (then zzz then 2)\n",
    "run_option2(emp_list)"
   ]
  },
  {
   "cell_type": "code",
   "execution_count": 32,
   "metadata": {},
   "outputs": [],
   "source": [
    "#complete option 3 related code here\n",
    "#the function is used to print compensations of all Employees\n",
    "#this function takes one argument, which is the emp_lst list (i.e. the list created previously which is used to store employee objects)\n",
    "#this function doesn't return anything\n",
    "#no need to handle exceptions\n",
    "def run_option3(my_lst):\n",
    "    print(\"\\nEmployee name and Compensation of all Employees\")\n",
    "    print(\"=================================================\")\n",
    "    for emp in my_lst:\n",
    "        print(f\"{emp.get_emp_name()}'s weekly compensation is ${emp.compute_compensation():.2f}\")"
   ]
  },
  {
   "cell_type": "code",
   "execution_count": 33,
   "metadata": {},
   "outputs": [
    {
     "name": "stdout",
     "output_type": "stream",
     "text": [
      "\n",
      "Employee name and Compensation of all Employees\n",
      "=================================================\n",
      "Amy's weekly compensation is $630.77\n",
      "Bob's weekly compensation is $1194.23\n",
      "Evan's weekly compensation is $1711.54\n",
      "Grace's weekly compensation is $1160.00\n",
      "James's weekly compensation is $750.00\n",
      "Luna's weekly compensation is $300.00\n",
      "Michael's weekly compensation is $2200.00\n",
      "Tom's weekly compensation is $3500.00\n",
      "Zoey's weekly compensation is $2550.00\n"
     ]
    }
   ],
   "source": [
    "#do a quick test on run_option3() function before moving forward (5 points)\n",
    "#don't change this code and please use the sample input\n",
    "run_option3(emp_list)"
   ]
  },
  {
   "cell_type": "code",
   "execution_count": 34,
   "metadata": {},
   "outputs": [],
   "source": [
    "#complete option 4 related code here\n",
    "#the function is used to search for an employee by name and the searching is NOT case sensitive\n",
    "#if there are some matching cases, print the information of all matched employees\n",
    "#if no matchng cases, print \"There is no employee matching the name you entered.\"\n",
    "#this function takes one argument, which is the emp_lst list (i.e. the list created previously which is used to store employee objects)\n",
    "#this function also returns a list of objects of the matched employees\n",
    "#no need to handle exceptions\n",
    "def run_option4(my_lst):\n",
    "    search_name = input(\"Please enter the name of the employee you want to search: \").lower()\n",
    "    matched_emps = []\n",
    "\n",
    "    for emp in my_lst:\n",
    "        if emp.get_emp_name().lower() == search_name:\n",
    "            matched_emps.append(emp)\n",
    "\n",
    "    if matched_emps:\n",
    "        print(\"=========================================================================\")\n",
    "        print(\"Below is the information of all employees that match the name you entered.\")\n",
    "        print(\"=========================================================================\\n\")\n",
    "        for emp in matched_emps:\n",
    "            print(emp)\n",
    "            print()\n",
    "        print(f\"There are {len(matched_emps)} employee matching your search.\")\n",
    "    else:\n",
    "        print(\"There is no employee matching the name you entered.\")\n",
    "\n",
    "    return matched_emps\n",
    "\n",
    "\n"
   ]
  },
  {
   "cell_type": "code",
   "execution_count": 35,
   "metadata": {
    "scrolled": true
   },
   "outputs": [
    {
     "name": "stdout",
     "output_type": "stream",
     "text": [
      "Please enter the name of the employee you want to search: TOM\n",
      "=========================================================================\n",
      "Below is the information of all employees that match the name you entered.\n",
      "=========================================================================\n",
      "\n",
      "Details of this Consultant are:\n",
      "Employee Name: Tom; Employee Address: 800 W Campbell Road, Richardson, Texas, 75080\n",
      "Make: Mercedes-Benz; Model: GLE350; Year of Manufacture: 2018; Mileage: 30000\n",
      "Hours Worked: 50; Project Type: 2\n",
      "\n",
      "There are 1 employee matching your search.\n",
      "\n",
      "There are 1 employees matching your search.\n"
     ]
    }
   ],
   "source": [
    "#do a quick test on run_option4() function before moving forward (5 points)\n",
    "#don't change this code and please use the example input (all upper cases)\n",
    "#example input: TOM\n",
    "#part 1\n",
    "matched_emp_list=run_option4(emp_list)\n",
    "print(\"\\nThere are {} employees matching your search.\".format(len(matched_emp_list)))"
   ]
  },
  {
   "cell_type": "code",
   "execution_count": 36,
   "metadata": {},
   "outputs": [
    {
     "name": "stdout",
     "output_type": "stream",
     "text": [
      "Please enter the name of the employee you want to search: Hongchang\n",
      "There is no employee matching the name you entered.\n"
     ]
    },
    {
     "data": {
      "text/plain": [
       "[]"
      ]
     },
     "execution_count": 36,
     "metadata": {},
     "output_type": "execute_result"
    }
   ],
   "source": [
    "#do a quick test on run_option4() function before moving forward \n",
    "#don't change this code and please use the example input\n",
    "#example input: Hongchang\n",
    "#part 2\n",
    "run_option4(emp_list)"
   ]
  },
  {
   "cell_type": "code",
   "execution_count": 37,
   "metadata": {},
   "outputs": [],
   "source": [
    "#complete option 5 related code here\n",
    "#the function is used to show some basic statistics. They are: \n",
    "#(1) the number of employees stored in the database\n",
    "#(2) the highest weekly compensation\n",
    "#(3) the mean weekly compensation\n",
    "#(4) the number of employees who have a vehicle with over 100,000 mileage\n",
    "#this function takes one argument, which is the emp_lst list (i.e. the list created previously which is used to store employee objects)\n",
    "#this function doesn't return anything\n",
    "#no need to handle exceptions\n",
    "\n",
    "def run_option5(my_lst):\n",
    "    print(\"\\n========================================================\")\n",
    "    print(\"Below is the statistics of all employees in this database.\")\n",
    "    print(\"========================================================\")\n",
    "\n",
    "    # (1) number of employees\n",
    "    num_employees = len(my_lst)\n",
    "    print(f\"There are {num_employees} emplyees stored in this employee database.\")\n",
    "\n",
    "    # (2) highest weekly compensation\n",
    "    if num_employees > 0:\n",
    "        highest_comp = max(emp.compute_compensation() for emp in my_lst)\n",
    "        print(f\"The highist weekly compensation is ${highest_comp:.2f}.\")\n",
    "    else:\n",
    "        print(\"The highist weekly compensation is $0.00.\")\n",
    "\n",
    "    # (3) mean weekly compensation\n",
    "    if num_employees > 0:\n",
    "        total_comp = sum(emp.compute_compensation() for emp in my_lst)\n",
    "        mean_comp = total_comp / num_employees\n",
    "        print(f\"The mean weekly compensation is: ${mean_comp:.2f}.\")\n",
    "    else:\n",
    "        print(\"The mean weekly compensation is: $0.00.\")\n",
    "\n",
    "    # (4) number of vehicles with over 100,000 mileage\n",
    "    high_mileage_vehicles = sum(1 for emp in my_lst if emp.get_vehicle().get_mileage() > 100000)\n",
    "    print(f\"The number of employees who have a vehicle with over 100,000 mileage is {high_mileage_vehicles}.\")\n"
   ]
  },
  {
   "cell_type": "code",
   "execution_count": 38,
   "metadata": {},
   "outputs": [
    {
     "name": "stdout",
     "output_type": "stream",
     "text": [
      "\n",
      "========================================================\n",
      "Below is the statistics of all employees in this database.\n",
      "========================================================\n",
      "There are 9 emplyees stored in this employee database.\n",
      "The highist weekly compensation is $3500.00.\n",
      "The mean weekly compensation is: $1555.17.\n",
      "The number of employees who have a vehicle with over 100,000 mileage is 2.\n"
     ]
    }
   ],
   "source": [
    "#do a quick test on run_option5() function before moving forward (5 points)\n",
    "#don't change this code \n",
    "run_option5(emp_list)"
   ]
  },
  {
   "cell_type": "code",
   "execution_count": 39,
   "metadata": {},
   "outputs": [],
   "source": [
    "#complete option 6 related code here\n",
    "#the function is used to compute weekly reimbursement (assuming the user has the requirerd information)\n",
    "#the first step is to ask for the name of the employee (you can call run_option4() here)\n",
    "#the second step is to select one employee from the matched employees\n",
    "#the third step is to ask for required information \n",
    "#this function doesn't return anything\n",
    "#no need to handle exceptions\n",
    "def run_option6(emp_list):\n",
    "    matched_list = run_option4(emp_list)\n",
    "    \n",
    "    if matched_list:\n",
    "        choice = int(input(\"Which employee do you want to check (enter a number)?\"))\n",
    "        emp = matched_list[choice - 1]\n",
    "\n",
    "        # Determine which type of employee and get expenses\n",
    "        if isinstance(emp, Management):\n",
    "            annual_expense = float(input(\"What is the annual expense?\"))\n",
    "            weekly_expense = float(input(\"What is the weekly expense?\"))\n",
    "            reimbursement = emp.compute_reimbursement(annual_expense, weekly_expense)\n",
    "        elif isinstance(emp, FullTimeEmployee):\n",
    "            annual_expense = float(input(\"What is the annual expense?\"))\n",
    "            reimbursement = emp.compute_reimbursement(annual_expense)\n",
    "        elif isinstance(emp, HourlyEmployee):\n",
    "            weekly_expense = float(input(\"What is the weekly expense?\"))\n",
    "            reimbursement = emp.compute_reimbursement(weekly_expense)\n",
    "        elif isinstance(emp, Consultant):\n",
    "            weekly_expense = float(input(\"What is the weekly expense?\"))\n",
    "            reimbursement = emp.compute_reimbursement(weekly_expense)\n",
    "        else:\n",
    "            reimbursement = 0.00  # fallback if unknown type\n",
    "\n",
    "        print(\"\\n############################################################\")\n",
    "        print(f\"This employee should have a weekly reimbursement of ${reimbursement:.2f}.\")\n"
   ]
  },
  {
   "cell_type": "code",
   "execution_count": 40,
   "metadata": {
    "scrolled": true
   },
   "outputs": [
    {
     "name": "stdout",
     "output_type": "stream",
     "text": [
      "Please enter the name of the employee you want to search: bob\n",
      "=========================================================================\n",
      "Below is the information of all employees that match the name you entered.\n",
      "=========================================================================\n",
      "\n",
      "Details of this Full Time Employee are:\n",
      "Employee Name: Bob; Employee Address: 200 W Campbell Road, Richardson, Texas, 75080\n",
      "Make: Toyota; Model: Camry; Year of Manufacture: 2010; Mileage: 60000\n",
      "Salary: 80000.00\n",
      "\n",
      "There are 1 employee matching your search.\n",
      "Which employee do you want to check (enter a number)?1\n",
      "What is the annual expense?8000\n",
      "\n",
      "############################################################\n",
      "This employee should have a weekly reimbursement of $153.85.\n"
     ]
    }
   ],
   "source": [
    "#do a quick test on run_option6() function before moving forward (5 points)\n",
    "#don't change this code and please use the example input (all lower cases)\n",
    "#example input: bob;1;8000\n",
    "#part 1\n",
    "\n",
    "run_option6(emp_list)"
   ]
  },
  {
   "cell_type": "code",
   "execution_count": 41,
   "metadata": {},
   "outputs": [
    {
     "name": "stdout",
     "output_type": "stream",
     "text": [
      "Please enter the name of the employee you want to search: james\n",
      "=========================================================================\n",
      "Below is the information of all employees that match the name you entered.\n",
      "=========================================================================\n",
      "\n",
      "Details of this Hourly Employee are:\n",
      "Employee Name: James; Employee Address: 500 W Campbell Road, Richardson, Texas, 75080\n",
      "Make: Mazda; Model: Mazda3; Year of Manufacture: 2010; Mileage: 80000\n",
      "Hours Worked: 30; Hourly Rate: 25.00\n",
      "\n",
      "There are 1 employee matching your search.\n",
      "Which employee do you want to check (enter a number)?1\n",
      "What is the weekly expense?130\n",
      "\n",
      "############################################################\n",
      "This employee should have a weekly reimbursement of $100.00.\n"
     ]
    }
   ],
   "source": [
    "#do a quick test on run_option6() function before moving forward \n",
    "#don't change this code and please use the sample input (all lower cases)\n",
    "#sample input: james;1;130\n",
    "#part 2\n",
    "\n",
    "run_option6(emp_list)"
   ]
  },
  {
   "cell_type": "code",
   "execution_count": 42,
   "metadata": {},
   "outputs": [],
   "source": [
    "#complete option 7 related code here\n",
    "#the function is used to store changes into a new file/database (i.e. empdata_updated.dat) and exit the program\n",
    "#the first step is to double check with the user if he/she does want to exit (not case sensitive)\n",
    "#this function takes one argument, which is the emp_lst list (i.e. the list created previously which is used to store employee objects)\n",
    "#this function doesn't return anything\n",
    "#no need to handle exceptions\n",
    "\n",
    "import pickle\n",
    "import sys\n",
    "\n",
    "def run_option7(my_lst):\n",
    "    print(\"\\nYou chose to exit the program\")\n",
    "    confirm = input(\"Are you sure (Y/N)? \").strip().lower()\n",
    "\n",
    "    if confirm == 'y':\n",
    "        with open('empdata_updated.dat', 'wb') as file:\n",
    "            for emp in my_lst:\n",
    "                pickle.dump(emp, file)\n",
    "        print(\"\\nAll changes have been saved to empdata_updated.dat. Exiting now.\")\n",
    "        sys.exit()\n",
    "    elif confirm == 'n':\n",
    "        print(\"\\nExit cancelled. Going back to the selection menu.\")\n",
    "    else:\n",
    "        print(\"\\nYour input doesn't match any valid option and has been considered as 'N'.\")\n",
    "        print(\"Going back to the selection menu.\")\n"
   ]
  },
  {
   "cell_type": "code",
   "execution_count": 43,
   "metadata": {},
   "outputs": [
    {
     "name": "stdout",
     "output_type": "stream",
     "text": [
      "\n",
      "You chose to exit the program\n",
      "Are you sure (Y/N)? b\n",
      "\n",
      "Your input doesn't match any valid option and has been considered as 'N'.\n",
      "Going back to the selection menu.\n"
     ]
    }
   ],
   "source": [
    "#do a quick test on run_option7() function before moving forward (5 points)\n",
    "#don't change this code and please use the example input\n",
    "#example input: b\n",
    "#part 1\n",
    "run_option7(emp_list)"
   ]
  },
  {
   "cell_type": "code",
   "execution_count": 44,
   "metadata": {},
   "outputs": [
    {
     "name": "stdout",
     "output_type": "stream",
     "text": [
      "\n",
      "You chose to exit the program\n",
      "Are you sure (Y/N)? n\n",
      "\n",
      "Exit cancelled. Going back to the selection menu.\n"
     ]
    }
   ],
   "source": [
    "#do a quick test on run_option7() function before moving forward \n",
    "#don't change this code and please use the example input\n",
    "#example input: n\n",
    "#part 2\n",
    "run_option7(emp_list)"
   ]
  },
  {
   "cell_type": "code",
   "execution_count": 45,
   "metadata": {},
   "outputs": [
    {
     "name": "stdout",
     "output_type": "stream",
     "text": [
      "\n",
      "You chose to exit the program\n",
      "Are you sure (Y/N)? y\n",
      "\n",
      "All changes have been saved to empdata_updated.dat. Exiting now.\n"
     ]
    },
    {
     "ename": "SystemExit",
     "evalue": "",
     "output_type": "error",
     "traceback": [
      "An exception has occurred, use %tb to see the full traceback.\n",
      "\u001b[0;31mSystemExit\u001b[0m\n"
     ]
    },
    {
     "name": "stderr",
     "output_type": "stream",
     "text": [
      "/opt/anaconda3/lib/python3.11/site-packages/IPython/core/interactiveshell.py:3561: UserWarning: To exit: use 'exit', 'quit', or Ctrl-D.\n",
      "  warn(\"To exit: use 'exit', 'quit', or Ctrl-D.\", stacklevel=1)\n"
     ]
    }
   ],
   "source": [
    "#do a quick test on run_option7() function before moving forward \n",
    "#don't change this code and please use the example input\n",
    "#example input: y\n",
    "#part 3\n",
    "run_option7(emp_list)"
   ]
  },
  {
   "cell_type": "code",
   "execution_count": null,
   "metadata": {},
   "outputs": [],
   "source": [
    "#complete the main application\n",
    "#the application menu provides 7 options\n",
    "#when user selects a valid option (except for 7), execute that option and come back to the menu again\n",
    "#need to handle exceptions when taking user's choices\n",
    "#this function doesn't take any arguments\n",
    "#it will work on the employ object list which is read from file empdata.dat\n",
    "def run_menu_options():\n",
    "    # Read employee objects into a list\n",
    "    emp_list = read_file_data()\n",
    "    \n",
    "    while True:  # The main loop to keep the menu active\n",
    "        # Display options\n",
    "        print(\"\\n==== Menu ====\")\n",
    "        print(\"1. To add an employee\")\n",
    "        print(\"2. To print the name and address of employees\")\n",
    "        print(\"3. To print the employee name and compensation of all employees\")\n",
    "        print(\"4. To search for employees by name\")\n",
    "        print(\"5. To check the basic statistics of employees\")\n",
    "        print(\"6. To calculate the reimbursement of one employee\")\n",
    "        print(\"7. To exit program\")\n",
    "\n",
    "        # Input handling with exception check\n",
    "        try:\n",
    "            sel = int(input(\"Your selection is: \"))\n",
    "            if sel < 1 or sel > 7:\n",
    "                print(\"\\n=========================================\")\n",
    "                print(\"You must enter an integer between 1 and 7!\")\n",
    "                print(\"=========================================\")\n",
    "                continue  # Stay in loop if the selection is invalid\n",
    "        except ValueError:\n",
    "            print(\"\\n=========================================\")\n",
    "            print(\"You must enter an integer between 1 and 7!\")\n",
    "            print(\"=========================================\")\n",
    "            continue  # Stay in loop if input is not a number\n",
    "\n",
    "        # Execute selection based on the user input\n",
    "        if sel == 1:\n",
    "            emp_list.append(run_option1())\n",
    "        elif sel == 2:\n",
    "            run_option2(emp_list)\n",
    "        elif sel == 3:\n",
    "            run_option3(emp_list)\n",
    "        elif sel == 4:\n",
    "            run_option4(emp_list)\n",
    "        elif sel == 5:\n",
    "            run_option5(emp_list)\n",
    "        elif sel == 6:\n",
    "            run_option6(emp_list)\n",
    "        elif sel == 7:\n",
    "            # Call option 7 to handle exit logic\n",
    "            if run_option7(emp_list):\n",
    "                break  # If the user chooses to exit, break the loop and terminate the program\n",
    "        else:\n",
    "            print(\"Invalid choice!\")\n"
   ]
  },
  {
   "cell_type": "code",
   "execution_count": 48,
   "metadata": {
    "scrolled": true
   },
   "outputs": [
    {
     "name": "stdout",
     "output_type": "stream",
     "text": [
      "\n",
      "==== Menu ====\n",
      "1. To add an employee\n",
      "2. To print the name and address of employees\n",
      "3. To print the employee name and compensation of all employees\n",
      "4. To search for employees by name\n",
      "5. To check the basic statistics of employees\n",
      "6. To calculate the reimbursement of one employee\n",
      "7. To exit program\n",
      "Your selection is: 0\n",
      "\n",
      "=========================================\n",
      "You must enter an integer between 1 and 7!\n",
      "=========================================\n",
      "\n",
      "==== Menu ====\n",
      "1. To add an employee\n",
      "2. To print the name and address of employees\n",
      "3. To print the employee name and compensation of all employees\n",
      "4. To search for employees by name\n",
      "5. To check the basic statistics of employees\n",
      "6. To calculate the reimbursement of one employee\n",
      "7. To exit program\n",
      "Your selection is: 8\n",
      "\n",
      "=========================================\n",
      "You must enter an integer between 1 and 7!\n",
      "=========================================\n",
      "\n",
      "==== Menu ====\n",
      "1. To add an employee\n",
      "2. To print the name and address of employees\n",
      "3. To print the employee name and compensation of all employees\n",
      "4. To search for employees by name\n",
      "5. To check the basic statistics of employees\n",
      "6. To calculate the reimbursement of one employee\n",
      "7. To exit program\n",
      "Your selection is: zzz\n",
      "\n",
      "=========================================\n",
      "You must enter an integer between 1 and 7!\n",
      "=========================================\n",
      "\n",
      "==== Menu ====\n",
      "1. To add an employee\n",
      "2. To print the name and address of employees\n",
      "3. To print the employee name and compensation of all employees\n",
      "4. To search for employees by name\n",
      "5. To check the basic statistics of employees\n",
      "6. To calculate the reimbursement of one employee\n",
      "7. To exit program\n",
      "Your selection is: 7\n",
      "\n",
      "You chose to exit the program\n",
      "Are you sure (Y/N)? n\n",
      "\n",
      "Exit cancelled. Going back to the selection menu.\n",
      "\n",
      "==== Menu ====\n",
      "1. To add an employee\n",
      "2. To print the name and address of employees\n",
      "3. To print the employee name and compensation of all employees\n",
      "4. To search for employees by name\n",
      "5. To check the basic statistics of employees\n",
      "6. To calculate the reimbursement of one employee\n",
      "7. To exit program\n",
      "Your selection is: 7\n",
      "\n",
      "You chose to exit the program\n",
      "Are you sure (Y/N)? y\n",
      "\n",
      "All changes have been saved to empdata_updated.dat. Exiting now.\n"
     ]
    },
    {
     "ename": "SystemExit",
     "evalue": "",
     "output_type": "error",
     "traceback": [
      "An exception has occurred, use %tb to see the full traceback.\n",
      "\u001b[0;31mSystemExit\u001b[0m\n"
     ]
    }
   ],
   "source": [
    "#do a quick test run_menu_options() function before moving forward (5 points)\n",
    "#don't change this code and please use the example input\n",
    "#example inputs in this order: 0;8;zzz;7;n;7;y\n",
    "run_menu_options()"
   ]
  },
  {
   "cell_type": "code",
   "execution_count": 49,
   "metadata": {},
   "outputs": [
    {
     "name": "stdout",
     "output_type": "stream",
     "text": [
      "\n",
      "==== Menu ====\n",
      "1. To add an employee\n",
      "2. To print the name and address of employees\n",
      "3. To print the employee name and compensation of all employees\n",
      "4. To search for employees by name\n",
      "5. To check the basic statistics of employees\n",
      "6. To calculate the reimbursement of one employee\n",
      "7. To exit program\n",
      "Your selection is: 1\n",
      "Type of Employee?(1-Full Time;2-Hourly;3-Consultant;4-Management) : 4\n",
      "Enter employee's name: David\n",
      "Enter employee's address: 103 E Campbell Road, Richardson, Texas, 75080\n",
      "Enter the vehicle make: BMW\n",
      "Enter the vehicle model: X3\n",
      "Enter the year of manufacture (yyyy): 2018\n",
      "Enter the mileage (positive number): 5000\n",
      "Enter the annual salary: 110000\n",
      "Enter the hours worked: 5\n",
      "Project Type? (Enter a number between 1 and 3): 2\n",
      "\n",
      "Details of this Management are:\n",
      "Employee Name: David; Employee Address: 103 E Campbell Road, Richardson, Texas, 75080\n",
      "Make: BMW; Model: X3; Year of Manufacture: 2018; Mileage: 5000.0\n",
      "Salary: 110000.00; Hours Worked: 5.0; Project Type: 2\n",
      "\n",
      "============================================================\n",
      "New employee entered successfully! Now going to the main menu.\n",
      "==============================================================\n",
      "\n",
      "==== Menu ====\n",
      "1. To add an employee\n",
      "2. To print the name and address of employees\n",
      "3. To print the employee name and compensation of all employees\n",
      "4. To search for employees by name\n",
      "5. To check the basic statistics of employees\n",
      "6. To calculate the reimbursement of one employee\n",
      "7. To exit program\n",
      "Your selection is: 1\n",
      "Type of Employee?(1-Full Time;2-Hourly;3-Consultant;4-Management) : 4\n",
      "Enter employee's name: Grace\n",
      "Enter employee's address: 105 E Campbell Road, Richardson, Texas, 75080\n",
      "Enter the vehicle make: Porsche\n",
      "Enter the vehicle model: Cayenne\n",
      "Enter the year of manufacture (yyyy): 2019\n",
      "Enter the mileage (positive number): 3000\n",
      "Enter the annual salary: 180000\n",
      "Enter the hours worked: 8\n",
      "Project Type? (Enter a number between 1 and 3): 1\n",
      "\n",
      "Details of this Management are:\n",
      "Employee Name: Grace; Employee Address: 105 E Campbell Road, Richardson, Texas, 75080\n",
      "Make: Porsche; Model: Cayenne; Year of Manufacture: 2019; Mileage: 3000.0\n",
      "Salary: 180000.00; Hours Worked: 8.0; Project Type: 1\n",
      "\n",
      "============================================================\n",
      "New employee entered successfully! Now going to the main menu.\n",
      "==============================================================\n",
      "\n",
      "==== Menu ====\n",
      "1. To add an employee\n",
      "2. To print the name and address of employees\n",
      "3. To print the employee name and compensation of all employees\n",
      "4. To search for employees by name\n",
      "5. To check the basic statistics of employees\n",
      "6. To calculate the reimbursement of one employee\n",
      "7. To exit program\n",
      "Your selection is: 1\n",
      "Type of Employee?(1-Full Time;2-Hourly;3-Consultant;4-Management) : 4\n",
      "Enter employee's name: Zoey\n",
      "Enter employee's address: 107 E Campbell Road, Richardson, Texas, 75080\n",
      "Enter the vehicle make: Audi\n",
      "Enter the vehicle model: A3\n",
      "Enter the year of manufacture (yyyy): 2022\n",
      "Enter the mileage (positive number): 3000\n",
      "Enter the annual salary: 90000\n",
      "Enter the hours worked: 10\n",
      "Project Type? (Enter a number between 1 and 3): 3\n",
      "\n",
      "Details of this Management are:\n",
      "Employee Name: Zoey; Employee Address: 107 E Campbell Road, Richardson, Texas, 75080\n",
      "Make: Audi; Model: A3; Year of Manufacture: 2022; Mileage: 3000.0\n",
      "Salary: 90000.00; Hours Worked: 10.0; Project Type: 3\n",
      "\n",
      "============================================================\n",
      "New employee entered successfully! Now going to the main menu.\n",
      "==============================================================\n",
      "\n",
      "==== Menu ====\n",
      "1. To add an employee\n",
      "2. To print the name and address of employees\n",
      "3. To print the employee name and compensation of all employees\n",
      "4. To search for employees by name\n",
      "5. To check the basic statistics of employees\n",
      "6. To calculate the reimbursement of one employee\n",
      "7. To exit program\n",
      "Your selection is: 2\n",
      "Do you want to see information of all employees (input 1) or the first 5 employees (input 2)?1\n",
      "==========================================================================\n",
      "Below is the information of all employees stored in the database.\n",
      "==========================================================================\n",
      "\n",
      "Details of this Full Time Employee are:\n",
      "Employee Name: Amy; Employee Address: 100 W Campbell Road, Richardson, Texas, 75080\n",
      "Make: Honda; Model: Civic; Year of Manufacture: 2014; Mileage: 50000\n",
      "Salary: 40000.00\n",
      "\n",
      "Details of this Full Time Employee are:\n",
      "Employee Name: Bob; Employee Address: 200 W Campbell Road, Richardson, Texas, 75080\n",
      "Make: Toyota; Model: Camry; Year of Manufacture: 2010; Mileage: 60000\n",
      "Salary: 80000.00\n",
      "\n",
      "Details of this Full Time Employee are:\n",
      "Employee Name: Evan; Employee Address: 300 W Campbell Road, Richardson, Texas, 75080\n",
      "Make: BMW; Model: X3; Year of Manufacture: 2016; Mileage: 30000\n",
      "Salary: 120000.00\n",
      "\n",
      "Details of this Hourly Employee are:\n",
      "Employee Name: Grace; Employee Address: 400 W Campbell Road, Richardson, Texas, 75080\n",
      "Make: Kia; Model: Rio; Year of Manufacture: 2005; Mileage: 150000\n",
      "Hours Worked: 50; Hourly Rate: 20.00\n",
      "\n",
      "Details of this Hourly Employee are:\n",
      "Employee Name: James; Employee Address: 500 W Campbell Road, Richardson, Texas, 75080\n",
      "Make: Mazda; Model: Mazda3; Year of Manufacture: 2010; Mileage: 80000\n",
      "Hours Worked: 30; Hourly Rate: 25.00\n",
      "\n",
      "Details of this Hourly Employee are:\n",
      "Employee Name: Luna; Employee Address: 600 W Campbell Road, Richardson, Texas, 75080\n",
      "Make: Nissan; Model: Sentra; Year of Manufacture: 2005; Mileage: 160000\n",
      "Hours Worked: 20; Hourly Rate: 15.00\n",
      "\n",
      "Details of this Consultant are:\n",
      "Employee Name: Michael; Employee Address: 700 W Campbell Road, Richardson, Texas, 75080\n",
      "Make: Ford; Model: Ranger; Year of Manufacture: 2011; Mileage: 80000\n",
      "Hours Worked: 40; Project Type: 1\n",
      "\n",
      "Details of this Consultant are:\n",
      "Employee Name: Tom; Employee Address: 800 W Campbell Road, Richardson, Texas, 75080\n",
      "Make: Mercedes-Benz; Model: GLE350; Year of Manufacture: 2018; Mileage: 30000\n",
      "Hours Worked: 50; Project Type: 2\n",
      "\n",
      "Details of this Consultant are:\n",
      "Employee Name: Zoey; Employee Address: 900 W Campbell Road, Richardson, Texas, 75080\n",
      "Make: Tesla; Model: Model3; Year of Manufacture: 2018; Mileage: 15000\n",
      "Hours Worked: 30; Project Type: 3\n",
      "\n",
      "Details of this Management are:\n",
      "Employee Name: David; Employee Address: 103 E Campbell Road, Richardson, Texas, 75080\n",
      "Make: BMW; Model: X3; Year of Manufacture: 2018; Mileage: 5000.0\n",
      "Salary: 110000.00; Hours Worked: 5.0; Project Type: 2\n",
      "\n",
      "Details of this Management are:\n",
      "Employee Name: Grace; Employee Address: 105 E Campbell Road, Richardson, Texas, 75080\n",
      "Make: Porsche; Model: Cayenne; Year of Manufacture: 2019; Mileage: 3000.0\n",
      "Salary: 180000.00; Hours Worked: 8.0; Project Type: 1\n",
      "\n",
      "Details of this Management are:\n",
      "Employee Name: Zoey; Employee Address: 107 E Campbell Road, Richardson, Texas, 75080\n",
      "Make: Audi; Model: A3; Year of Manufacture: 2022; Mileage: 3000.0\n",
      "Salary: 90000.00; Hours Worked: 10.0; Project Type: 3\n",
      "\n",
      "==== Menu ====\n",
      "1. To add an employee\n",
      "2. To print the name and address of employees\n",
      "3. To print the employee name and compensation of all employees\n",
      "4. To search for employees by name\n",
      "5. To check the basic statistics of employees\n",
      "6. To calculate the reimbursement of one employee\n",
      "7. To exit program\n",
      "Your selection is: 3\n",
      "\n",
      "Employee name and Compensation of all Employees\n",
      "=================================================\n",
      "Amy's weekly compensation is $630.77\n",
      "Bob's weekly compensation is $1194.23\n",
      "Evan's weekly compensation is $1711.54\n",
      "Grace's weekly compensation is $1160.00\n",
      "James's weekly compensation is $750.00\n",
      "Luna's weekly compensation is $300.00\n",
      "Michael's weekly compensation is $2200.00\n",
      "Tom's weekly compensation is $3500.00\n",
      "Zoey's weekly compensation is $2550.00\n",
      "David's weekly compensation is $1932.69\n",
      "Grace's weekly compensation is $2924.62\n",
      "Zoey's weekly compensation is $2175.00\n",
      "\n",
      "==== Menu ====\n",
      "1. To add an employee\n",
      "2. To print the name and address of employees\n",
      "3. To print the employee name and compensation of all employees\n",
      "4. To search for employees by name\n",
      "5. To check the basic statistics of employees\n",
      "6. To calculate the reimbursement of one employee\n",
      "7. To exit program\n",
      "Your selection is: 4\n",
      "Please enter the name of the employee you want to search: grace\n",
      "=========================================================================\n",
      "Below is the information of all employees that match the name you entered.\n",
      "=========================================================================\n",
      "\n",
      "Details of this Hourly Employee are:\n",
      "Employee Name: Grace; Employee Address: 400 W Campbell Road, Richardson, Texas, 75080\n",
      "Make: Kia; Model: Rio; Year of Manufacture: 2005; Mileage: 150000\n",
      "Hours Worked: 50; Hourly Rate: 20.00\n",
      "\n",
      "Details of this Management are:\n",
      "Employee Name: Grace; Employee Address: 105 E Campbell Road, Richardson, Texas, 75080\n",
      "Make: Porsche; Model: Cayenne; Year of Manufacture: 2019; Mileage: 3000.0\n",
      "Salary: 180000.00; Hours Worked: 8.0; Project Type: 1\n",
      "\n",
      "There are 2 employee matching your search.\n",
      "\n",
      "==== Menu ====\n",
      "1. To add an employee\n",
      "2. To print the name and address of employees\n",
      "3. To print the employee name and compensation of all employees\n",
      "4. To search for employees by name\n",
      "5. To check the basic statistics of employees\n",
      "6. To calculate the reimbursement of one employee\n",
      "7. To exit program\n"
     ]
    },
    {
     "name": "stdout",
     "output_type": "stream",
     "text": [
      "Your selection is: 5\n",
      "\n",
      "========================================================\n",
      "Below is the statistics of all employees in this database.\n",
      "========================================================\n",
      "There are 12 emplyees stored in this employee database.\n",
      "The highist weekly compensation is $3500.00.\n",
      "The mean weekly compensation is: $1752.40.\n",
      "The number of employees who have a vehicle with over 100,000 mileage is 2.\n",
      "\n",
      "==== Menu ====\n",
      "1. To add an employee\n",
      "2. To print the name and address of employees\n",
      "3. To print the employee name and compensation of all employees\n",
      "4. To search for employees by name\n",
      "5. To check the basic statistics of employees\n",
      "6. To calculate the reimbursement of one employee\n",
      "7. To exit program\n",
      "Your selection is: 6\n",
      "Please enter the name of the employee you want to search: ZOEY\n",
      "=========================================================================\n",
      "Below is the information of all employees that match the name you entered.\n",
      "=========================================================================\n",
      "\n",
      "Details of this Consultant are:\n",
      "Employee Name: Zoey; Employee Address: 900 W Campbell Road, Richardson, Texas, 75080\n",
      "Make: Tesla; Model: Model3; Year of Manufacture: 2018; Mileage: 15000\n",
      "Hours Worked: 30; Project Type: 3\n",
      "\n",
      "Details of this Management are:\n",
      "Employee Name: Zoey; Employee Address: 107 E Campbell Road, Richardson, Texas, 75080\n",
      "Make: Audi; Model: A3; Year of Manufacture: 2022; Mileage: 3000.0\n",
      "Salary: 90000.00; Hours Worked: 10.0; Project Type: 3\n",
      "\n",
      "There are 2 employee matching your search.\n",
      "Which employee do you want to check (enter a number)?1\n",
      "What is the weekly expense?120\n",
      "\n",
      "############################################################\n",
      "This employee should have a weekly reimbursement of $96.00.\n",
      "\n",
      "==== Menu ====\n",
      "1. To add an employee\n",
      "2. To print the name and address of employees\n",
      "3. To print the employee name and compensation of all employees\n",
      "4. To search for employees by name\n",
      "5. To check the basic statistics of employees\n",
      "6. To calculate the reimbursement of one employee\n",
      "7. To exit program\n",
      "Your selection is: 7\n",
      "\n",
      "You chose to exit the program\n",
      "Are you sure (Y/N)? y\n",
      "\n",
      "All changes have been saved to empdata_updated.dat. Exiting now.\n"
     ]
    },
    {
     "ename": "SystemExit",
     "evalue": "",
     "output_type": "error",
     "traceback": [
      "An exception has occurred, use %tb to see the full traceback.\n",
      "\u001b[0;31mSystemExit\u001b[0m\n"
     ]
    }
   ],
   "source": [
    "#here comes the main test, which is splitted into several steps (20 points in total)\n",
    "\n",
    "#step 1: choose option 1 three times and enter the following three employees (5 points)\n",
    "#type 4 employee: David; 103 E Campbell Road, Richardson, Texas, 75080; BMW; X3; 2018;5000;110000;5;2\n",
    "#type 4 employee: Grace; 105 E Campbell Road, Richardson, Texas, 75080; Porsche; Cayenne; 2019;3000;180000;8;1\n",
    "#type 4 employee: Zoey; 107 E Campbell Road, Richardson, Texas, 75080; Audi; A3; 2022;3000;90000;10;3\n",
    "\n",
    "#step 2: choose option 2\n",
    "#then choose 1\n",
    "\n",
    "#step 3:choose option 3 (5 points)\n",
    "\n",
    "#step 4:choose option 4 \n",
    "#then type in: grace (all lower cases)\n",
    "\n",
    "#step 5:choose option 5 (5 points)\n",
    "\n",
    "#step 6:choose option 6 (5 points)\n",
    "#then type in: ZOEY (all upper cases); then 1; then 120\n",
    "\n",
    "#step 7:choose option 7\n",
    "#then type in: y\n",
    "run_menu_options()"
   ]
  },
  {
   "cell_type": "code",
   "execution_count": null,
   "metadata": {},
   "outputs": [],
   "source": []
  }
 ],
 "metadata": {
  "kernelspec": {
   "display_name": "Python 3 (ipykernel)",
   "language": "python",
   "name": "python3"
  },
  "language_info": {
   "codemirror_mode": {
    "name": "ipython",
    "version": 3
   },
   "file_extension": ".py",
   "mimetype": "text/x-python",
   "name": "python",
   "nbconvert_exporter": "python",
   "pygments_lexer": "ipython3",
   "version": "3.11.7"
  }
 },
 "nbformat": 4,
 "nbformat_minor": 4
}
